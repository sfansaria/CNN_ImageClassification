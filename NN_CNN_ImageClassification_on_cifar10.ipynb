{
  "nbformat": 4,
  "nbformat_minor": 0,
  "metadata": {
    "colab": {
      "provenance": [],
      "authorship_tag": "ABX9TyMQg55Zc8O4gO1bzea32X7Q",
      "include_colab_link": true
    },
    "kernelspec": {
      "name": "python3",
      "display_name": "Python 3"
    },
    "language_info": {
      "name": "python"
    }
  },
  "cells": [
    {
      "cell_type": "markdown",
      "metadata": {
        "id": "view-in-github",
        "colab_type": "text"
      },
      "source": [
        "<a href=\"https://colab.research.google.com/github/sfansaria/CNN_ImageClassification/blob/main/NN_CNN_ImageClassification_on_cifar10.ipynb\" target=\"_parent\"><img src=\"https://colab.research.google.com/assets/colab-badge.svg\" alt=\"Open In Colab\"/></a>"
      ]
    },
    {
      "cell_type": "code",
      "execution_count": 1,
      "metadata": {
        "id": "QpM46yRPpNMK"
      },
      "outputs": [],
      "source": [
        "from __future__ import print_function\n",
        "import keras\n",
        "from keras.datasets import cifar10\n",
        "from keras.preprocessing.image import ImageDataGenerator\n",
        "from keras.models import Sequential\n",
        "from keras.layers import Dense, Dropout, Activation, Conv2D, MaxPooling2D, GlobalMaxPooling2D\n",
        "\n"
      ]
    },
    {
      "cell_type": "code",
      "source": [
        "batch_size = 32\n",
        "num_classes = 10\n",
        "epochs = 100\n",
        "data_augmentation = True\n",
        "\n"
      ],
      "metadata": {
        "id": "ZOGleDBdqQ1A"
      },
      "execution_count": 2,
      "outputs": []
    },
    {
      "cell_type": "code",
      "source": [
        "#Loading the dataset\n",
        " #Splitting between the train and test sets\n",
        "\n",
        "(x_train, y_train), (x_test, y_test) = cifar10.load_data()\n",
        "print(x_train.shape)\n",
        "print(x_train.shape[0],'train_samples')\n",
        "print(x_test.shape[0],'test_samples')"
      ],
      "metadata": {
        "colab": {
          "base_uri": "https://localhost:8080/"
        },
        "id": "O0teifq_qbRj",
        "outputId": "1d22b8bf-d5d0-4815-cdf2-5d7b56bcfe05"
      },
      "execution_count": 3,
      "outputs": [
        {
          "output_type": "stream",
          "name": "stdout",
          "text": [
            "Downloading data from https://www.cs.toronto.edu/~kriz/cifar-10-python.tar.gz\n",
            "170498071/170498071 [==============================] - 4s 0us/step\n",
            "(50000, 32, 32, 3)\n",
            "50000 train_samples\n",
            "10000 test_samples\n"
          ]
        }
      ]
    },
    {
      "cell_type": "code",
      "source": [
        "#Coverting the class vectors to binary class matrices\n",
        "y_train = keras.utils.to_categorical(y_train, num_classes)\n",
        "y_test = keras.utils.to_categorical(y_test, num_classes)\n",
        "\n"
      ],
      "metadata": {
        "id": "bwTu-ycNq2rR"
      },
      "execution_count": 4,
      "outputs": []
    },
    {
      "cell_type": "code",
      "source": [
        "#Model\n",
        "\n",
        "\n",
        "model = Sequential()\n",
        "\n",
        "model.add(Conv2D(32, (3, 3), padding='same',input_shape=x_train.shape[1:]))\n",
        "model.add(Activation('relu'))\n",
        "\n",
        "model.add(Conv2D(48, (3, 3), padding='same',input_shape=x_train.shape[1:]))\n",
        "model.add(Activation('relu'))\n",
        "model.add(MaxPooling2D(pool_size=(2, 2)))\n",
        "model.add(Dropout(0.25))\n",
        "\n",
        "model.add(Conv2D(80, (3, 3), padding='same', input_shape=x_train.shape[1:]))\n",
        "model.add(Activation('relu'))\n",
        "model.add(MaxPooling2D(pool_size=(2, 2)))\n",
        "model.add(Dropout(0.25))\n",
        "\n",
        "model.add(Conv2D(128, (3, 3), padding='same',input_shape=x_train.shape[1:]))\n",
        "model.add(GlobalMaxPooling2D())\n",
        "model.add(Dropout(0.25))\n",
        "\n",
        "model.add(Dense(500))\n",
        "model.add(Activation('relu'))\n",
        "model.add(Dropout(0.25))\n",
        "\n",
        "model.add(Dense(num_classes))\n",
        "model.add(Activation('softmax'))\n",
        "\n",
        "\n"
      ],
      "metadata": {
        "id": "2slMDp5B5-V1"
      },
      "execution_count": 5,
      "outputs": []
    },
    {
      "cell_type": "code",
      "source": [
        "\n",
        "#Initiate Adam Optimizer\n",
        "\n",
        "opt = keras.optimizers.Adam(learning_rate=0.0001)\n",
        "\n",
        "#Train the model\n",
        "#Implementation of Adam\n",
        "\n",
        "model.compile(loss='categorical_crossentropy', optimizer=opt, metrics = ['accuracy'])\n",
        "model.summary()\n"
      ],
      "metadata": {
        "colab": {
          "base_uri": "https://localhost:8080/"
        },
        "id": "uDuZXi5j9C3E",
        "outputId": "37b31c60-36ff-4e38-db2e-9d5b206988e8"
      },
      "execution_count": 6,
      "outputs": [
        {
          "output_type": "stream",
          "name": "stdout",
          "text": [
            "Model: \"sequential\"\n",
            "_________________________________________________________________\n",
            " Layer (type)                Output Shape              Param #   \n",
            "=================================================================\n",
            " conv2d (Conv2D)             (None, 32, 32, 32)        896       \n",
            "                                                                 \n",
            " activation (Activation)     (None, 32, 32, 32)        0         \n",
            "                                                                 \n",
            " conv2d_1 (Conv2D)           (None, 32, 32, 48)        13872     \n",
            "                                                                 \n",
            " activation_1 (Activation)   (None, 32, 32, 48)        0         \n",
            "                                                                 \n",
            " max_pooling2d (MaxPooling2D  (None, 16, 16, 48)       0         \n",
            " )                                                               \n",
            "                                                                 \n",
            " dropout (Dropout)           (None, 16, 16, 48)        0         \n",
            "                                                                 \n",
            " conv2d_2 (Conv2D)           (None, 16, 16, 80)        34640     \n",
            "                                                                 \n",
            " activation_2 (Activation)   (None, 16, 16, 80)        0         \n",
            "                                                                 \n",
            " max_pooling2d_1 (MaxPooling  (None, 8, 8, 80)         0         \n",
            " 2D)                                                             \n",
            "                                                                 \n",
            " dropout_1 (Dropout)         (None, 8, 8, 80)          0         \n",
            "                                                                 \n",
            " conv2d_3 (Conv2D)           (None, 8, 8, 128)         92288     \n",
            "                                                                 \n",
            " global_max_pooling2d (Globa  (None, 128)              0         \n",
            " lMaxPooling2D)                                                  \n",
            "                                                                 \n",
            " dropout_2 (Dropout)         (None, 128)               0         \n",
            "                                                                 \n",
            " dense (Dense)               (None, 500)               64500     \n",
            "                                                                 \n",
            " activation_3 (Activation)   (None, 500)               0         \n",
            "                                                                 \n",
            " dropout_3 (Dropout)         (None, 500)               0         \n",
            "                                                                 \n",
            " dense_1 (Dense)             (None, 10)                5010      \n",
            "                                                                 \n",
            " activation_4 (Activation)   (None, 10)                0         \n",
            "                                                                 \n",
            "=================================================================\n",
            "Total params: 211,206\n",
            "Trainable params: 211,206\n",
            "Non-trainable params: 0\n",
            "_________________________________________________________________\n"
          ]
        }
      ]
    },
    {
      "cell_type": "code",
      "source": [
        "x_train = x_train.astype('float32')\n",
        "x_test = x_test.astype('float32')\n",
        "\n",
        "x_train /= 255\n",
        "x_test /= 255\n",
        "\n",
        "tbCallBack = keras.callbacks.TensorBoard(log_dir='./Graph2', histogram_freq=0, write_graph=True,write_images=True)"
      ],
      "metadata": {
        "id": "eqKYCBcl-Mky"
      },
      "execution_count": 7,
      "outputs": []
    },
    {
      "cell_type": "code",
      "source": [
        "#IMage_Augmentation\n",
        "\n",
        "if not data_augmentation:\n",
        "  print('Not using data augmentation')\n",
        "  model.fit(x_train, y_train, batch_size=batch_size,epochs=epochs,validation_data=(x_test, y_test),shuffle=True,callbacks=[tbCallBack])\n",
        "else:\n",
        "  print('Using real-time data augmentation')\n",
        "  datagen = ImageDataGenerator(\n",
        "      featurewise_center=False, #set input mean to 0 over the dataset\n",
        "      samplewise_center=False, #set each sample mean to 0\n",
        "      featurewise_std_normalization = False,#divide inputs by std of the dataset\n",
        "      samplewise_std_normalization=False,#divide each imput by its std\n",
        "      zca_whitening=False,#apply ZCA whitening\n",
        "      rotation_range=10,#randomly rotate images in the range(degrees-0 to 180)\n",
        "      width_shift_range=0.2,#randomly shift images horizontally(fraction of total width)\n",
        "      height_shift_range=0.2,#randomly shift images vertically(fraction of total height)\n",
        "      horizontal_flip=True, #randomly flip images\n",
        "      vertical_flip=False)#randomly flip images\n",
        "\n",
        "      #Compute quantities required for feature-wise normalization\n",
        "      #std, mean, and principal components if ZCA whitenning is applied\n",
        "  datagen.fit(x_train)\n",
        "\n",
        "  #Fit the model on the batches generated by datagen.flow().\n",
        "\n",
        "  model.fit(datagen.flow(x_train,y_train,batch_size=batch_size), steps_per_epoch = x_train.shape[0]//batch_size,epochs=epochs,validation_data=(x_test, y_test), callbacks=[tbCallBack])\n",
        "\n"
      ],
      "metadata": {
        "colab": {
          "base_uri": "https://localhost:8080/"
        },
        "id": "NIeBeI_m_LlI",
        "outputId": "156a637e-8885-4e96-c75d-cd6279f07657"
      },
      "execution_count": 8,
      "outputs": [
        {
          "output_type": "stream",
          "name": "stdout",
          "text": [
            "Using real-time data augmentation\n",
            "Epoch 1/100\n",
            "1562/1562 [==============================] - 418s 266ms/step - loss: 2.0434 - accuracy: 0.2252 - val_loss: 1.7829 - val_accuracy: 0.3555\n",
            "Epoch 2/100\n",
            "1562/1562 [==============================] - 414s 265ms/step - loss: 1.7613 - accuracy: 0.3417 - val_loss: 1.6406 - val_accuracy: 0.4006\n",
            "Epoch 3/100\n",
            "1562/1562 [==============================] - 418s 268ms/step - loss: 1.6392 - accuracy: 0.3932 - val_loss: 1.5192 - val_accuracy: 0.4449\n",
            "Epoch 4/100\n",
            "1562/1562 [==============================] - 411s 263ms/step - loss: 1.5645 - accuracy: 0.4240 - val_loss: 1.4476 - val_accuracy: 0.4711\n",
            "Epoch 5/100\n",
            "1562/1562 [==============================] - 418s 268ms/step - loss: 1.5098 - accuracy: 0.4457 - val_loss: 1.3700 - val_accuracy: 0.5025\n",
            "Epoch 6/100\n",
            "1562/1562 [==============================] - 416s 266ms/step - loss: 1.4542 - accuracy: 0.4698 - val_loss: 1.3249 - val_accuracy: 0.5184\n",
            "Epoch 7/100\n",
            "1562/1562 [==============================] - 414s 265ms/step - loss: 1.4087 - accuracy: 0.4882 - val_loss: 1.2693 - val_accuracy: 0.5409\n",
            "Epoch 8/100\n",
            "1562/1562 [==============================] - 408s 261ms/step - loss: 1.3650 - accuracy: 0.5058 - val_loss: 1.2293 - val_accuracy: 0.5553\n",
            "Epoch 9/100\n",
            "1562/1562 [==============================] - 408s 261ms/step - loss: 1.3214 - accuracy: 0.5232 - val_loss: 1.1816 - val_accuracy: 0.5810\n",
            "Epoch 10/100\n",
            "1562/1562 [==============================] - 410s 262ms/step - loss: 1.2886 - accuracy: 0.5326 - val_loss: 1.1511 - val_accuracy: 0.5893\n",
            "Epoch 11/100\n",
            "1562/1562 [==============================] - 409s 262ms/step - loss: 1.2489 - accuracy: 0.5500 - val_loss: 1.1654 - val_accuracy: 0.5800\n",
            "Epoch 12/100\n",
            "1562/1562 [==============================] - 410s 263ms/step - loss: 1.2153 - accuracy: 0.5636 - val_loss: 1.0718 - val_accuracy: 0.6173\n",
            "Epoch 13/100\n",
            "1562/1562 [==============================] - 404s 259ms/step - loss: 1.1907 - accuracy: 0.5714 - val_loss: 1.0944 - val_accuracy: 0.6092\n",
            "Epoch 14/100\n",
            "1562/1562 [==============================] - 410s 262ms/step - loss: 1.1624 - accuracy: 0.5856 - val_loss: 1.0709 - val_accuracy: 0.6152\n",
            "Epoch 15/100\n",
            "1562/1562 [==============================] - 416s 266ms/step - loss: 1.1361 - accuracy: 0.5919 - val_loss: 1.0972 - val_accuracy: 0.6052\n",
            "Epoch 16/100\n",
            "1562/1562 [==============================] - 410s 262ms/step - loss: 1.1184 - accuracy: 0.5995 - val_loss: 1.0643 - val_accuracy: 0.6236\n",
            "Epoch 17/100\n",
            "1562/1562 [==============================] - 420s 269ms/step - loss: 1.0945 - accuracy: 0.6094 - val_loss: 0.9880 - val_accuracy: 0.6412\n",
            "Epoch 18/100\n",
            "1562/1562 [==============================] - 413s 265ms/step - loss: 1.0760 - accuracy: 0.6167 - val_loss: 0.9698 - val_accuracy: 0.6570\n",
            "Epoch 19/100\n",
            "1562/1562 [==============================] - 411s 263ms/step - loss: 1.0606 - accuracy: 0.6241 - val_loss: 0.9125 - val_accuracy: 0.6725\n",
            "Epoch 20/100\n",
            "1562/1562 [==============================] - 413s 265ms/step - loss: 1.0441 - accuracy: 0.6291 - val_loss: 0.9642 - val_accuracy: 0.6539\n",
            "Epoch 21/100\n",
            "1562/1562 [==============================] - 406s 260ms/step - loss: 1.0311 - accuracy: 0.6337 - val_loss: 0.9550 - val_accuracy: 0.6566\n",
            "Epoch 22/100\n",
            "1562/1562 [==============================] - 410s 262ms/step - loss: 1.0121 - accuracy: 0.6430 - val_loss: 0.9039 - val_accuracy: 0.6744\n",
            "Epoch 23/100\n",
            "1562/1562 [==============================] - 406s 260ms/step - loss: 1.0032 - accuracy: 0.6439 - val_loss: 0.8702 - val_accuracy: 0.6862\n",
            "Epoch 24/100\n",
            "1562/1562 [==============================] - 410s 263ms/step - loss: 0.9869 - accuracy: 0.6480 - val_loss: 0.9019 - val_accuracy: 0.6772\n",
            "Epoch 25/100\n",
            "1562/1562 [==============================] - 408s 261ms/step - loss: 0.9754 - accuracy: 0.6535 - val_loss: 0.9627 - val_accuracy: 0.6625\n",
            "Epoch 26/100\n",
            "1562/1562 [==============================] - 404s 259ms/step - loss: 0.9641 - accuracy: 0.6594 - val_loss: 0.9221 - val_accuracy: 0.6729\n",
            "Epoch 27/100\n",
            "1562/1562 [==============================] - 406s 260ms/step - loss: 0.9466 - accuracy: 0.6637 - val_loss: 0.8643 - val_accuracy: 0.6906\n",
            "Epoch 28/100\n",
            "1562/1562 [==============================] - 418s 267ms/step - loss: 0.9439 - accuracy: 0.6663 - val_loss: 0.8694 - val_accuracy: 0.6873\n",
            "Epoch 29/100\n",
            "1562/1562 [==============================] - 412s 264ms/step - loss: 0.9292 - accuracy: 0.6721 - val_loss: 0.8286 - val_accuracy: 0.7029\n",
            "Epoch 30/100\n",
            "1562/1562 [==============================] - 416s 266ms/step - loss: 0.9177 - accuracy: 0.6750 - val_loss: 0.8196 - val_accuracy: 0.7093\n",
            "Epoch 31/100\n",
            "1562/1562 [==============================] - 415s 266ms/step - loss: 0.9149 - accuracy: 0.6783 - val_loss: 0.8356 - val_accuracy: 0.7040\n",
            "Epoch 32/100\n",
            "1562/1562 [==============================] - 417s 267ms/step - loss: 0.9000 - accuracy: 0.6813 - val_loss: 0.7932 - val_accuracy: 0.7168\n",
            "Epoch 33/100\n",
            "1562/1562 [==============================] - 415s 266ms/step - loss: 0.8931 - accuracy: 0.6836 - val_loss: 0.7909 - val_accuracy: 0.7232\n",
            "Epoch 34/100\n",
            "1562/1562 [==============================] - 415s 266ms/step - loss: 0.8812 - accuracy: 0.6901 - val_loss: 0.7940 - val_accuracy: 0.7194\n",
            "Epoch 35/100\n",
            "1562/1562 [==============================] - 408s 261ms/step - loss: 0.8763 - accuracy: 0.6899 - val_loss: 0.8113 - val_accuracy: 0.7167\n",
            "Epoch 36/100\n",
            "1562/1562 [==============================] - 411s 263ms/step - loss: 0.8666 - accuracy: 0.6938 - val_loss: 0.7578 - val_accuracy: 0.7356\n",
            "Epoch 37/100\n",
            "1562/1562 [==============================] - 406s 260ms/step - loss: 0.8594 - accuracy: 0.6972 - val_loss: 0.8074 - val_accuracy: 0.7174\n",
            "Epoch 38/100\n",
            "1562/1562 [==============================] - 411s 263ms/step - loss: 0.8532 - accuracy: 0.6983 - val_loss: 0.7450 - val_accuracy: 0.7389\n",
            "Epoch 39/100\n",
            "1562/1562 [==============================] - 409s 262ms/step - loss: 0.8447 - accuracy: 0.7049 - val_loss: 0.7600 - val_accuracy: 0.7342\n",
            "Epoch 40/100\n",
            "1562/1562 [==============================] - 412s 264ms/step - loss: 0.8357 - accuracy: 0.7055 - val_loss: 0.7868 - val_accuracy: 0.7246\n",
            "Epoch 41/100\n",
            "1562/1562 [==============================] - 410s 262ms/step - loss: 0.8346 - accuracy: 0.7072 - val_loss: 0.8009 - val_accuracy: 0.7214\n",
            "Epoch 42/100\n",
            "1562/1562 [==============================] - 411s 263ms/step - loss: 0.8262 - accuracy: 0.7117 - val_loss: 0.7234 - val_accuracy: 0.7468\n",
            "Epoch 43/100\n",
            "1562/1562 [==============================] - 413s 264ms/step - loss: 0.8173 - accuracy: 0.7100 - val_loss: 0.7166 - val_accuracy: 0.7502\n",
            "Epoch 44/100\n",
            "1562/1562 [==============================] - 416s 266ms/step - loss: 0.8128 - accuracy: 0.7152 - val_loss: 0.7835 - val_accuracy: 0.7303\n",
            "Epoch 45/100\n",
            "1562/1562 [==============================] - 412s 264ms/step - loss: 0.8145 - accuracy: 0.7138 - val_loss: 0.7608 - val_accuracy: 0.7362\n",
            "Epoch 46/100\n",
            "1562/1562 [==============================] - 406s 260ms/step - loss: 0.8012 - accuracy: 0.7164 - val_loss: 0.7297 - val_accuracy: 0.7491\n",
            "Epoch 47/100\n",
            "1562/1562 [==============================] - 411s 263ms/step - loss: 0.8001 - accuracy: 0.7208 - val_loss: 0.7284 - val_accuracy: 0.7503\n",
            "Epoch 48/100\n",
            "1562/1562 [==============================] - 410s 262ms/step - loss: 0.7882 - accuracy: 0.7217 - val_loss: 0.7369 - val_accuracy: 0.7475\n",
            "Epoch 49/100\n",
            "1562/1562 [==============================] - 413s 264ms/step - loss: 0.7886 - accuracy: 0.7242 - val_loss: 0.7700 - val_accuracy: 0.7361\n",
            "Epoch 50/100\n",
            "1562/1562 [==============================] - 417s 267ms/step - loss: 0.7789 - accuracy: 0.7268 - val_loss: 0.6871 - val_accuracy: 0.7624\n",
            "Epoch 51/100\n",
            "1562/1562 [==============================] - 415s 266ms/step - loss: 0.7782 - accuracy: 0.7279 - val_loss: 0.6843 - val_accuracy: 0.7643\n",
            "Epoch 52/100\n",
            "1562/1562 [==============================] - 413s 265ms/step - loss: 0.7726 - accuracy: 0.7294 - val_loss: 0.7105 - val_accuracy: 0.7565\n",
            "Epoch 53/100\n",
            "1562/1562 [==============================] - 409s 262ms/step - loss: 0.7685 - accuracy: 0.7308 - val_loss: 0.6619 - val_accuracy: 0.7741\n",
            "Epoch 54/100\n",
            "1562/1562 [==============================] - 412s 264ms/step - loss: 0.7669 - accuracy: 0.7292 - val_loss: 0.7037 - val_accuracy: 0.7589\n",
            "Epoch 55/100\n",
            "1562/1562 [==============================] - 416s 266ms/step - loss: 0.7620 - accuracy: 0.7342 - val_loss: 0.6643 - val_accuracy: 0.7736\n",
            "Epoch 56/100\n",
            "1562/1562 [==============================] - 417s 267ms/step - loss: 0.7544 - accuracy: 0.7347 - val_loss: 0.6972 - val_accuracy: 0.7625\n",
            "Epoch 57/100\n",
            "1562/1562 [==============================] - 403s 258ms/step - loss: 0.7543 - accuracy: 0.7371 - val_loss: 0.7398 - val_accuracy: 0.7447\n",
            "Epoch 58/100\n",
            "1562/1562 [==============================] - 399s 255ms/step - loss: 0.7507 - accuracy: 0.7385 - val_loss: 0.6695 - val_accuracy: 0.7713\n",
            "Epoch 59/100\n",
            "1562/1562 [==============================] - 399s 256ms/step - loss: 0.7474 - accuracy: 0.7377 - val_loss: 0.6750 - val_accuracy: 0.7672\n",
            "Epoch 60/100\n",
            "1562/1562 [==============================] - 406s 260ms/step - loss: 0.7410 - accuracy: 0.7400 - val_loss: 0.7675 - val_accuracy: 0.7401\n",
            "Epoch 61/100\n",
            "1562/1562 [==============================] - 403s 258ms/step - loss: 0.7397 - accuracy: 0.7407 - val_loss: 0.7023 - val_accuracy: 0.7580\n",
            "Epoch 62/100\n",
            "1562/1562 [==============================] - 404s 259ms/step - loss: 0.7322 - accuracy: 0.7436 - val_loss: 0.6361 - val_accuracy: 0.7843\n",
            "Epoch 63/100\n",
            "1562/1562 [==============================] - 399s 255ms/step - loss: 0.7303 - accuracy: 0.7453 - val_loss: 0.6251 - val_accuracy: 0.7858\n",
            "Epoch 64/100\n",
            "1562/1562 [==============================] - 399s 256ms/step - loss: 0.7302 - accuracy: 0.7450 - val_loss: 0.6750 - val_accuracy: 0.7705\n",
            "Epoch 65/100\n",
            "1562/1562 [==============================] - 404s 259ms/step - loss: 0.7217 - accuracy: 0.7470 - val_loss: 0.6426 - val_accuracy: 0.7797\n",
            "Epoch 66/100\n",
            "1562/1562 [==============================] - 401s 257ms/step - loss: 0.7161 - accuracy: 0.7519 - val_loss: 0.6269 - val_accuracy: 0.7868\n",
            "Epoch 67/100\n",
            "1562/1562 [==============================] - 399s 255ms/step - loss: 0.7176 - accuracy: 0.7495 - val_loss: 0.6533 - val_accuracy: 0.7778\n",
            "Epoch 68/100\n",
            "1562/1562 [==============================] - 394s 252ms/step - loss: 0.7136 - accuracy: 0.7511 - val_loss: 0.6397 - val_accuracy: 0.7817\n",
            "Epoch 69/100\n",
            "1562/1562 [==============================] - 387s 248ms/step - loss: 0.7128 - accuracy: 0.7499 - val_loss: 0.6938 - val_accuracy: 0.7656\n",
            "Epoch 70/100\n",
            "1562/1562 [==============================] - 390s 249ms/step - loss: 0.7088 - accuracy: 0.7535 - val_loss: 0.6204 - val_accuracy: 0.7860\n",
            "Epoch 71/100\n",
            "1562/1562 [==============================] - 391s 251ms/step - loss: 0.7062 - accuracy: 0.7530 - val_loss: 0.6190 - val_accuracy: 0.7867\n",
            "Epoch 72/100\n",
            "1562/1562 [==============================] - 395s 253ms/step - loss: 0.6970 - accuracy: 0.7563 - val_loss: 0.6322 - val_accuracy: 0.7861\n",
            "Epoch 73/100\n",
            "1562/1562 [==============================] - 392s 251ms/step - loss: 0.7058 - accuracy: 0.7560 - val_loss: 0.6795 - val_accuracy: 0.7709\n",
            "Epoch 74/100\n",
            "1562/1562 [==============================] - 398s 255ms/step - loss: 0.7016 - accuracy: 0.7540 - val_loss: 0.6674 - val_accuracy: 0.7754\n",
            "Epoch 75/100\n",
            "1562/1562 [==============================] - 394s 252ms/step - loss: 0.6978 - accuracy: 0.7559 - val_loss: 0.6210 - val_accuracy: 0.7886\n",
            "Epoch 76/100\n",
            "1562/1562 [==============================] - 397s 254ms/step - loss: 0.7004 - accuracy: 0.7546 - val_loss: 0.6567 - val_accuracy: 0.7765\n",
            "Epoch 77/100\n",
            "1562/1562 [==============================] - 392s 251ms/step - loss: 0.6918 - accuracy: 0.7603 - val_loss: 0.6188 - val_accuracy: 0.7901\n",
            "Epoch 78/100\n",
            "1562/1562 [==============================] - 394s 252ms/step - loss: 0.6903 - accuracy: 0.7608 - val_loss: 0.6615 - val_accuracy: 0.7777\n",
            "Epoch 79/100\n",
            "1562/1562 [==============================] - 397s 254ms/step - loss: 0.6909 - accuracy: 0.7588 - val_loss: 0.6762 - val_accuracy: 0.7706\n",
            "Epoch 80/100\n",
            "1562/1562 [==============================] - 395s 253ms/step - loss: 0.6881 - accuracy: 0.7614 - val_loss: 0.6594 - val_accuracy: 0.7760\n",
            "Epoch 81/100\n",
            "1562/1562 [==============================] - 395s 253ms/step - loss: 0.6788 - accuracy: 0.7626 - val_loss: 0.6206 - val_accuracy: 0.7876\n",
            "Epoch 82/100\n",
            "1562/1562 [==============================] - 396s 254ms/step - loss: 0.6770 - accuracy: 0.7645 - val_loss: 0.6351 - val_accuracy: 0.7838\n",
            "Epoch 83/100\n",
            "1562/1562 [==============================] - 392s 251ms/step - loss: 0.6732 - accuracy: 0.7651 - val_loss: 0.6427 - val_accuracy: 0.7820\n",
            "Epoch 84/100\n",
            "1562/1562 [==============================] - 394s 252ms/step - loss: 0.6786 - accuracy: 0.7634 - val_loss: 0.6250 - val_accuracy: 0.7872\n",
            "Epoch 85/100\n",
            "1562/1562 [==============================] - 394s 252ms/step - loss: 0.6711 - accuracy: 0.7654 - val_loss: 0.6506 - val_accuracy: 0.7840\n",
            "Epoch 86/100\n",
            "1562/1562 [==============================] - 402s 257ms/step - loss: 0.6723 - accuracy: 0.7657 - val_loss: 0.5986 - val_accuracy: 0.7937\n",
            "Epoch 87/100\n",
            "1562/1562 [==============================] - 405s 260ms/step - loss: 0.6680 - accuracy: 0.7683 - val_loss: 0.5815 - val_accuracy: 0.8003\n",
            "Epoch 88/100\n",
            "1562/1562 [==============================] - 405s 259ms/step - loss: 0.6666 - accuracy: 0.7663 - val_loss: 0.6055 - val_accuracy: 0.7922\n",
            "Epoch 89/100\n",
            "1562/1562 [==============================] - 401s 257ms/step - loss: 0.6675 - accuracy: 0.7675 - val_loss: 0.6078 - val_accuracy: 0.7926\n",
            "Epoch 90/100\n",
            "1562/1562 [==============================] - 390s 250ms/step - loss: 0.6621 - accuracy: 0.7673 - val_loss: 0.6515 - val_accuracy: 0.7828\n",
            "Epoch 91/100\n",
            "1562/1562 [==============================] - 385s 247ms/step - loss: 0.6595 - accuracy: 0.7694 - val_loss: 0.6397 - val_accuracy: 0.7843\n",
            "Epoch 92/100\n",
            "1562/1562 [==============================] - 388s 248ms/step - loss: 0.6560 - accuracy: 0.7695 - val_loss: 0.5935 - val_accuracy: 0.7955\n",
            "Epoch 93/100\n",
            "1562/1562 [==============================] - 394s 253ms/step - loss: 0.6572 - accuracy: 0.7706 - val_loss: 0.5928 - val_accuracy: 0.7999\n",
            "Epoch 94/100\n",
            "1562/1562 [==============================] - 399s 255ms/step - loss: 0.6560 - accuracy: 0.7704 - val_loss: 0.6120 - val_accuracy: 0.7966\n",
            "Epoch 95/100\n",
            "1562/1562 [==============================] - 393s 251ms/step - loss: 0.6544 - accuracy: 0.7725 - val_loss: 0.5580 - val_accuracy: 0.8119\n",
            "Epoch 96/100\n",
            "1562/1562 [==============================] - 395s 253ms/step - loss: 0.6537 - accuracy: 0.7698 - val_loss: 0.5843 - val_accuracy: 0.7979\n",
            "Epoch 97/100\n",
            "1562/1562 [==============================] - 399s 256ms/step - loss: 0.6496 - accuracy: 0.7733 - val_loss: 0.6101 - val_accuracy: 0.7955\n",
            "Epoch 98/100\n",
            "1562/1562 [==============================] - 400s 256ms/step - loss: 0.6472 - accuracy: 0.7736 - val_loss: 0.6467 - val_accuracy: 0.7846\n",
            "Epoch 99/100\n",
            "1562/1562 [==============================] - 404s 259ms/step - loss: 0.6474 - accuracy: 0.7737 - val_loss: 0.5745 - val_accuracy: 0.8058\n",
            "Epoch 100/100\n",
            "1562/1562 [==============================] - 403s 258ms/step - loss: 0.6421 - accuracy: 0.7771 - val_loss: 0.6348 - val_accuracy: 0.7858\n"
          ]
        }
      ]
    },
    {
      "cell_type": "code",
      "source": [
        "scores = model.evaluate(x_test, y_test, verbose=1)\n",
        "print(\"Test Loss\",scores[0])\n",
        "print(\"Test Accuracy\",scores[1])"
      ],
      "metadata": {
        "colab": {
          "base_uri": "https://localhost:8080/"
        },
        "id": "Ab0klbtyDuLf",
        "outputId": "ae9566c5-b75b-46c4-eb0d-4c9bae4ad790"
      },
      "execution_count": 9,
      "outputs": [
        {
          "output_type": "stream",
          "name": "stdout",
          "text": [
            "313/313 [==============================] - 18s 57ms/step - loss: 0.6348 - accuracy: 0.7858\n",
            "Test Loss 0.6348143815994263\n",
            "Test Accuracy 0.7857999801635742\n"
          ]
        }
      ]
    }
  ]
}
